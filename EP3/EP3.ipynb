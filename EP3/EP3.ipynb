{
 "cells": [
  {
   "cell_type": "markdown",
   "metadata": {},
   "source": [
    "# Exercício de Programação 3: PageRank\n",
    "\n",
    "<font color=\"red\">**Prazo de submissão: 23:55 do dia 09/09/2019** </font>\n",
    "\n",
    "2019.2 Álgebra Linear Computacional - DCC - UFMG\n",
    "\n",
    "Erickson - Fabricio - Renato\n",
    "\n",
    "Instruções:\n",
    "* Antes de submeter suas soluções, certifique-se de que tudo roda como esperado. Primeiro, **reinicie o kernel** no menu, selecione Kernel$\\rightarrow$Restart e então execute **todas as células** (no menu, Cell$\\rightarrow$Run All)\n",
    "* Apenas o arquivo .ipynb deve ser submetido. Ele não deve ser compactado.\n",
    "* Não deixe de preencher seu nome e número de matrícula na célula a seguir"
   ]
  },
  {
   "cell_type": "markdown",
   "metadata": {},
   "source": [
    "**Nome:** Victor Vieira de Melo\n",
    "\n",
    "**Matrícula:** 2019055028\n",
    "\n",
    "* Todo material consultado na Internet deve ser referenciado (incluir URL).\n",
    "\n",
    "Este trabalho está dividido em cinco partes:\n",
    " * **Parte 0**: Esta parte não vale nota, mas é fundamental para entender o que se pede a seguir.\n",
    " * **Parte 1**: Pagerank sem saltos aleatórios em grafo pequeno\n",
    " * **Parte 2**: Pagerank (com saltos aleatórios) em grafo pequeno"
   ]
  },
  {
   "cell_type": "markdown",
   "metadata": {},
   "source": [
    "## Parte 0: Revisão de conceitos\n",
    "\n",
    "I. O **primeiro autovetor** (isto é, o autovetor associado ao maior autovalor em módulo) pode ser calculado rapidamente através do método da potência, desde que o *gap* entre o maior e o segundo maior autovalor (em módulo) seja grande. Uma implementação simples do método da potência é mostrada a seguir."
   ]
  },
  {
   "cell_type": "code",
   "execution_count": 44,
   "metadata": {},
   "outputs": [],
   "source": [
    "def powerMethod(A, niter=10):\n",
    "    n = len(A)\n",
    "    w = np.ones((n,1))/n\n",
    "    for i in range(niter):\n",
    "        w = A.dot(w)        \n",
    "    return w"
   ]
  },
  {
   "cell_type": "markdown",
   "metadata": {},
   "source": [
    "II. Dado um grafo $G=(V,E)$, podemos obter uma **matriz de probabilidade de transição** $P$ dividindo-se cada linha de $A$ pela soma dos elementos da linha. Seja $D = A \\times \\mathbf{1}$ a matriz diagonal contendo a soma das linhas de $A$. Temos que\n",
    "\n",
    "$$\n",
    "P = D^{-1} \\times A.\n",
    "$$"
   ]
  },
  {
   "cell_type": "markdown",
   "metadata": {},
   "source": [
    "III. A matriz de probabilidade de transição $P$ de certos grafos direcionados satisfaz\n",
    "\n",
    "$$\n",
    "v^\\top P = v^\\top \\textrm{ou $P^\\top v = v$},\n",
    "$$\n",
    "\n",
    "onde $v$ é o primeiro autovetor de $P^\\top$. A equação da direita é mais fácil de ser utilizada, pois ela tem a forma canônica $Ax=b$. Já a equação da direita é mais fácil de ser interpretada. Para todo $j=1,\\ldots,n$,\n",
    "\n",
    "$$\n",
    "\\sum_{i=1} v_i P_{ij} = v_j \\\\\n",
    "\\sum_{i=1} v_i \\frac{A_{ij}}{D_{ii}} = v_j \\\\\n",
    "\\sum_{i:(i,j) \\in E} v_i \\frac{1}{D_{ii}} = v_j\n",
    "$$"
   ]
  },
  {
   "cell_type": "markdown",
   "metadata": {},
   "source": [
    "IV. Assuma que $v$ seja normalizado de forma que $\\sum_j v_j = 1$. O PageRank (sem saltos) de um vértice $j$ é dado por $v_j$, onde $v$ é o primeiro autovetor de $P^\\top$. Esta é uma maneira de medir sua relevância. A intuição da Equação $\\sum_{i:(i,j) \\in E} v_i /D_{ii} = v_j$ é que a relevância de $j$ é a soma das relevâncias dos vértices $i$ que apontam para $j$ normalizados pelos seus respectivos graus de saída."
   ]
  },
  {
   "cell_type": "markdown",
   "metadata": {},
   "source": [
    "## Parte 1: Pagerank sem saltos aleatórios em grafo pequeno\n",
    "\n",
    "Considere o grafo a seguir composto por $n=4$ vértices e $m=8$ arestas. \n",
    "<img src=\"images/directedgraph.png\"/>\n",
    "\n",
    "Certifique-se de que encontrou as $m=8$ arestas."
   ]
  },
  {
   "cell_type": "markdown",
   "metadata": {},
   "source": [
    "**1.1** Crie um numpy array $A$ contendo a matriz de adjacência."
   ]
  },
  {
   "cell_type": "code",
   "execution_count": 45,
   "metadata": {},
   "outputs": [],
   "source": [
    "import numpy as np\n",
    "A = np.array([[0,1,1,0],[0,0,1,1],[0,0,0,1],[1,1,1,0]])"
   ]
  },
  {
   "cell_type": "markdown",
   "metadata": {},
   "source": [
    "**1.2** Escreva uma função matrizDeTransicao que recebe como entrada uma matriz $n \\times n$ e retorna a matriz de probabilidade de transição. Imprima $P$, a matriz de transição para $A$."
   ]
  },
  {
   "cell_type": "code",
   "execution_count": 46,
   "metadata": {},
   "outputs": [
    {
     "name": "stdout",
     "output_type": "stream",
     "text": [
      "[[0.         0.5        0.5        0.        ]\n",
      " [0.         0.         0.5        0.5       ]\n",
      " [0.         0.         0.         1.        ]\n",
      " [0.33333333 0.33333333 0.33333333 0.        ]]\n"
     ]
    }
   ],
   "source": [
    "def matrizDeTransicao(M):\n",
    "    n = len(M)\n",
    "    D = np.zeros((n,n))\n",
    "    \n",
    "    #Criando a matriz diagonal D com a soma das linhas de A\n",
    "    for i in range(n):\n",
    "        D[i,i] = np.sum(M[i,:])\n",
    "    \n",
    "    P = np.linalg.inv(D)@M\n",
    "    return P\n",
    "\n",
    "P = matrizDeTransicao(A)\n",
    "print(P)"
   ]
  },
  {
   "cell_type": "markdown",
   "metadata": {},
   "source": [
    "**1.3** Use a função np.linalg.eig para calcular o primeiro autovetor de $P^\\top$. Normalize o autovetor pela sua soma e imprima o resultado. (Observação: os elementos do autovetor serão retornados como números complexos, mas a parte imaginária será nula e pode ser ignorada.)"
   ]
  },
  {
   "cell_type": "code",
   "execution_count": 64,
   "metadata": {},
   "outputs": [
    {
     "name": "stdout",
     "output_type": "stream",
     "text": [
      "[0.12016835+0.j 0.18025253+0.j 0.2703788 +0.j 0.36050506+0.j]\n"
     ]
    }
   ],
   "source": [
    "autoval,autovec = np.linalg.eig(P.T)\n",
    "autovec = autovec/np.linalg.norm(autovec)\n",
    "print(autovec[:,0])"
   ]
  },
  {
   "cell_type": "markdown",
   "metadata": {},
   "source": [
    "**1.4** Verifique que o método da potência aplicado a $P^\\top$ retorna uma aproximação para o primeiro autovetor. "
   ]
  },
  {
   "cell_type": "code",
   "execution_count": 65,
   "metadata": {},
   "outputs": [
    {
     "data": {
      "text/plain": [
       "array([[0.12885802],\n",
       "       [0.19331115],\n",
       "       [0.29024402],\n",
       "       [0.38758681]])"
      ]
     },
     "execution_count": 65,
     "metadata": {},
     "output_type": "execute_result"
    }
   ],
   "source": [
    "powerMethod(P.T)"
   ]
  },
  {
   "cell_type": "markdown",
   "metadata": {},
   "source": [
    "**1.5** Implemente uma função powerMethodEps(A, epsilon) que executa o método da potência até que a condição de convergência $\\|w_{t} - w_{t-1}\\| < \\epsilon$ seja atingida. Para a matriz $P^\\top$ com $\\epsilon=10^{-5}$ quantas iterações foram realizadas? "
   ]
  },
  {
   "cell_type": "code",
   "execution_count": 66,
   "metadata": {},
   "outputs": [
    {
     "name": "stdout",
     "output_type": "stream",
     "text": [
      "19\n"
     ]
    },
    {
     "data": {
      "text/plain": [
       "array([[0.12903008],\n",
       "       [0.19354683],\n",
       "       [0.29032272],\n",
       "       [0.38710037]])"
      ]
     },
     "execution_count": 66,
     "metadata": {},
     "output_type": "execute_result"
    }
   ],
   "source": [
    "def powerMethodEps(A, eps=1e-5):\n",
    "    n = len(A)\n",
    "    w = np.ones((n,1))/n\n",
    "    w_new = A @ w\n",
    "    count = 1\n",
    "    while (np.linalg.norm(w_new-w) >= eps):\n",
    "        w = w_new\n",
    "        w_new = A @ w\n",
    "        count = count + 1\n",
    "    print(count)\n",
    "    \n",
    "    return w\n",
    "\n",
    "powerMethodEps(P.T)"
   ]
  },
  {
   "cell_type": "markdown",
   "metadata": {},
   "source": [
    "## Parte II: Pagerank (com saltos aleatórios) em grafo pequeno\n",
    "\n",
    "Agora iremos modificar a matriz A de forma a:\n",
    " * adicionar um novo vértice 4, e\n",
    " * adicionar uma aresta de 3 para 4.\n",
    " \n",
    "Obviamente a matriz de probabilidade de transição não está definida para a nova matriz $A$. Vértices que não possuem arestas de saída (como o vértice 4) são conhecidos como *dangling nodes*. Para resolver este e outros problemas, incluiremos a possibilidade de realizar saltos aleatórios de um vértice para qualquer outro vértice.\n",
    "\n",
    "Em particular, assume-se que com probabilidade $\\alpha$, seguimos uma das arestas de saída em $A$ e, com probabilidade $1-\\alpha$ realizamos um salto aleatório, isto é, transicionamos do vértice $v$ para um dos $n$ vértices do grafo (incluindo $v$) escolhido uniformemente. Quando não existem *dangling nodes*, a nova matriz de probabilidade de transição é dada por\n",
    "\n",
    "$$\n",
    "P = \\alpha D^{-1} A + (1-\\alpha) \\frac{\\mathbf{1}\\mathbf{1}^\\top}{n}\n",
    "$$\n",
    "\n",
    "Quando existem *dangling nodes*, a única possibilidade a partir desses nós é fazer saltos aleatórios. Mais precisamente, se $i$ é um vértice sem arestas de saída, desejamos que a $i$-ésima linha de $P$ seja o vetor $[1/n,\\ldots,1/n]$. Uma forma de satisfazer essa definição é preencher com 1's as linhas de $A$ que correspondem aos *dangling nodes*. Uma desvantagem desta estratégia é que faz com que $A$ fique mais densa (mais elementos não-nulos).\n",
    "\n",
    "Um valor típico usado para $\\alpha$ é $0.85$."
   ]
  },
  {
   "cell_type": "markdown",
   "metadata": {},
   "source": [
    "**2.1** Crie um novo numpy array $A_\\textrm{new}$ contendo o vértice 4 e a aresta (3,4)."
   ]
  },
  {
   "cell_type": "code",
   "execution_count": 49,
   "metadata": {},
   "outputs": [
    {
     "name": "stdout",
     "output_type": "stream",
     "text": [
      "[[0 1 1 0 0]\n",
      " [0 0 1 1 0]\n",
      " [0 0 0 1 0]\n",
      " [1 1 1 0 1]\n",
      " [0 0 0 0 0]]\n"
     ]
    }
   ],
   "source": [
    "A_new = np.array([[0,1,1,0,0],[0,0,1,1,0],[0,0,0,1,0],[1,1,1,0,1],[0,0,0,0,0]])\n",
    "print(A_new)"
   ]
  },
  {
   "cell_type": "markdown",
   "metadata": {},
   "source": [
    "**2.2** Crie uma função fixDangling(M) que retorna uma cópia modificada da matriz de adjacência M onde cada *dangling node* do grafo original possui arestas para todos os vértices do grafo. *Dica:* Você pode criar um vetor $d$ com os graus de saída e acessar as linhas de $M$ correpondentes aos *dangling nodes* por $M[d==0,:]$. Imprima a matriz $A_\\textrm{fixed}$ retornada após chamar fixDangling para $A_\\textrm{new}$.  "
   ]
  },
  {
   "cell_type": "code",
   "execution_count": 68,
   "metadata": {},
   "outputs": [
    {
     "data": {
      "text/plain": [
       "array([[0, 1, 1, 0, 0],\n",
       "       [0, 0, 1, 1, 0],\n",
       "       [0, 0, 0, 1, 0],\n",
       "       [1, 1, 1, 0, 1],\n",
       "       [1, 1, 1, 1, 1]])"
      ]
     },
     "execution_count": 68,
     "metadata": {},
     "output_type": "execute_result"
    }
   ],
   "source": [
    "def fixDangling(M):\n",
    "    M2 = M.copy()\n",
    "    n = len(M)\n",
    "    d = np.zeros((n))\n",
    "    \n",
    "    #Criando o vetor linha d\n",
    "    for x in range (n):\n",
    "        d[x] = 1\n",
    "    \n",
    "    #Verificando se há dangling node e substituindo a linha por d\n",
    "    for i in range(n):\n",
    "        if (np.sum(M2[i,:])==0):\n",
    "            M2[i,:] = d\n",
    "    return M2\n",
    "    \n",
    "A_fixed = fixDangling(A_new)\n",
    "A_fixed"
   ]
  },
  {
   "cell_type": "markdown",
   "metadata": {},
   "source": [
    "**2.3** Crie uma função matrizDeTransicao(M, alpha) que receba como parâmetro também a probabilidade $\\alpha$ de não fazermos um salto aleatório. Você pode assumir que $M$ foi retornada por fixDanglig, logo, não possui *dangling nodes*. Imprima as matrizes:\n",
    " * $P_2$ obtida ao chamar matrizDeTransicao para os parâmetros $A$ e $\\alpha=0.85$;\n",
    " * $P_\\textrm{new}$ obtida ao chamar matrizDeTransicao para os parâmetros $A_\\textrm{fixed}$ e $\\alpha=0.85$."
   ]
  },
  {
   "cell_type": "code",
   "execution_count": 70,
   "metadata": {},
   "outputs": [
    {
     "name": "stdout",
     "output_type": "stream",
     "text": [
      "[[0.0375     0.4625     0.4625     0.0375    ]\n",
      " [0.0375     0.0375     0.4625     0.4625    ]\n",
      " [0.0375     0.0375     0.0375     0.8875    ]\n",
      " [0.32083333 0.32083333 0.32083333 0.0375    ]]\n",
      "[[0.03   0.455  0.455  0.03   0.03  ]\n",
      " [0.03   0.03   0.455  0.455  0.03  ]\n",
      " [0.03   0.03   0.03   0.88   0.03  ]\n",
      " [0.2425 0.2425 0.2425 0.03   0.2425]\n",
      " [0.2    0.2    0.2    0.2    0.2   ]]\n"
     ]
    }
   ],
   "source": [
    "def matrizDeTransicao(A, alpha=1.0):\n",
    "    n = len(A)\n",
    "    D = np.zeros((n,n))\n",
    "    d = np.zeros(n)\n",
    "    onze = np.zeros((n,n))\n",
    "    \n",
    "    #Criando a matriz diagonal D e o vetor linha d\n",
    "    for i in range(n):\n",
    "        D[i,i] = np.sum(A[i,:])\n",
    "        d[i] = 1\n",
    "    \n",
    "    #Criando a matriz 11\n",
    "    for x in range(n):\n",
    "        onze[x,:] = d\n",
    "    \n",
    "    #Criando P\n",
    "    P = alpha*np.linalg.inv(D)@A + (1-alpha)*(onze.T/n)\n",
    "    \n",
    "    return P \n",
    "\n",
    "P_2 = matrizDeTransicao(A,0.85)\n",
    "print(P_2)\n",
    "P_new = matrizDeTransicao(A_fixed,0.85)\n",
    "print(P_new)"
   ]
  },
  {
   "cell_type": "markdown",
   "metadata": {},
   "source": [
    "**2.4** Imprima o resultado do método da potência com:\n",
    "* $P_2^\\top$ e $\\epsilon=10^{-5}$\n",
    "* $P_\\textrm{new}^\\top$ e $\\epsilon=10^{-5}$."
   ]
  },
  {
   "cell_type": "code",
   "execution_count": 71,
   "metadata": {},
   "outputs": [
    {
     "name": "stdout",
     "output_type": "stream",
     "text": [
      "15\n",
      "13\n",
      "[[0.14181131]\n",
      " [0.20208015]\n",
      " [0.28796184]\n",
      " [0.36814671]]\n",
      "[[0.12190232]\n",
      " [0.1737103 ]\n",
      " [0.24753505]\n",
      " [0.33495002]\n",
      " [0.12190232]]\n"
     ]
    }
   ],
   "source": [
    "pr_2 = powerMethodEps(P_2.T,eps=1e-5)\n",
    "pr_new = powerMethodEps(P_new.T,eps=1e-5)\n",
    "print(pr_2)\n",
    "print(pr_new)"
   ]
  },
  {
   "cell_type": "markdown",
   "metadata": {},
   "source": [
    "**2.5** Sejam $i_\\max$ e $i_\\min$ os índices dos vértices com maior e menor PageRank de $A_\\textrm{fixed}$. Vamos verificar como a adição de um novo link pode ajudar a promover uma página web (vértice). Adicione uma aresta do vértice $i_\\max$ para o vértice $i_\\min$ (se já houver aresta, aumente de 1 para 2 o elemento da matriz de adjacência). Qual é o novo pagerank de $i_\\min$?"
   ]
  },
  {
   "cell_type": "code",
   "execution_count": 72,
   "metadata": {},
   "outputs": [],
   "source": [
    "ind_sorted = np.argsort(np.squeeze(pr_new))\n",
    "imax = ind_sorted[-1]\n",
    "imin = ind_sorted[0]\n"
   ]
  },
  {
   "cell_type": "code",
   "execution_count": 73,
   "metadata": {},
   "outputs": [
    {
     "name": "stdout",
     "output_type": "stream",
     "text": [
      "13\n",
      "[[0.1583561 ]\n",
      " [0.17021269]\n",
      " [0.24253671]\n",
      " [0.32596931]\n",
      " [0.10292519]]\n"
     ]
    }
   ],
   "source": [
    "A_fixed2 = A_fixed.copy()\n",
    "if(A_fixed2[imax,imin]==1):\n",
    "    A_fixed2[imax,imin]=2\n",
    "else:\n",
    "    A_fixed2[imax,imin]=1\n",
    "\n",
    "P_fixed2 = matrizDeTransicao(A_fixed2,0.85)\n",
    "pr = powerMethodEps(P_fixed2.T,eps=1e-4)\n",
    "print(pr)"
   ]
  },
  {
   "cell_type": "code",
   "execution_count": null,
   "metadata": {},
   "outputs": [],
   "source": []
  },
  {
   "cell_type": "code",
   "execution_count": null,
   "metadata": {},
   "outputs": [],
   "source": []
  }
 ],
 "metadata": {
  "kernelspec": {
   "display_name": "Python 3",
   "language": "python",
   "name": "python3"
  },
  "language_info": {
   "codemirror_mode": {
    "name": "ipython",
    "version": 3
   },
   "file_extension": ".py",
   "mimetype": "text/x-python",
   "name": "python",
   "nbconvert_exporter": "python",
   "pygments_lexer": "ipython3",
   "version": "3.6.9"
  }
 },
 "nbformat": 4,
 "nbformat_minor": 2
}
