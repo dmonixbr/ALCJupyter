{
 "cells": [
  {
   "cell_type": "code",
   "execution_count": 103,
   "metadata": {},
   "outputs": [],
   "source": [
    "import numpy as np"
   ]
  },
  {
   "cell_type": "markdown",
   "metadata": {},
   "source": [
    "![](imagens/ex1.png)"
   ]
  },
  {
   "cell_type": "code",
   "execution_count": 104,
   "metadata": {},
   "outputs": [
    {
     "name": "stdout",
     "output_type": "stream",
     "text": [
      "p_0: [0.33333333 0.33333333 0.33333333] \n",
      "A: [[0.5 0.5 0. ]\n",
      " [0.5 0.  1. ]\n",
      " [0.  0.5 0. ]]\n"
     ]
    }
   ],
   "source": [
    "#Exemplo 1\n",
    "\n",
    "p_0 = np.array([1/3,1/3,1/3])\n",
    "A = np.array([[1/2, 1/2, 0], [1/2, 0, 1], [0, 1/2,0]])\n",
    "print ('p_0:',p_0,'\\nA:',A)"
   ]
  },
  {
   "cell_type": "code",
   "execution_count": 105,
   "metadata": {},
   "outputs": [
    {
     "name": "stdout",
     "output_type": "stream",
     "text": [
      "p_0: [0.33333333 0.33333333 0.33333333] \n",
      "primeira itteração\n",
      "p_1:  [0.33333333 0.5        0.16666667]\n"
     ]
    }
   ],
   "source": [
    "print('p_0:',p_0,'\\nprimeira itteração')\n",
    "p_1 = np.dot(A,p_0)\n",
    "print ('p_1: ',p_1)"
   ]
  },
  {
   "cell_type": "code",
   "execution_count": 106,
   "metadata": {},
   "outputs": [
    {
     "name": "stdout",
     "output_type": "stream",
     "text": [
      "proxima iteração...\n",
      "p_2:  [0.41666667 0.33333333 0.25      ]\n"
     ]
    }
   ],
   "source": [
    "print('proxima iteração...')\n",
    "p_2 = np.dot(A,p_1)\n",
    "print ('p_2: ',p_2)"
   ]
  },
  {
   "cell_type": "code",
   "execution_count": 107,
   "metadata": {},
   "outputs": [
    {
     "name": "stdout",
     "output_type": "stream",
     "text": [
      "proxima iteração...\n",
      "p_3:  [0.375      0.45833333 0.16666667]\n",
      "proxima iteração...\n",
      "p_4:  [0.41666667 0.35416667 0.22916667]\n",
      "proxima iteração...\n",
      "p_5:  [0.38541667 0.4375     0.17708333]\n"
     ]
    }
   ],
   "source": [
    "print('proxima iteração...')\n",
    "p_3 = np.dot(A,p_2)\n",
    "print ('p_3: ',p_3)\n",
    "\n",
    "print('proxima iteração...')\n",
    "p_4 = np.dot(A,p_3)\n",
    "print ('p_4: ',p_4)\n",
    "\n",
    "print('proxima iteração...')\n",
    "p_5 = np.dot(A,p_4)\n",
    "print ('p_5: ',p_5)"
   ]
  },
  {
   "cell_type": "code",
   "execution_count": 108,
   "metadata": {},
   "outputs": [
    {
     "name": "stdout",
     "output_type": "stream",
     "text": [
      "10 iterações: [0.40494792 0.38704427 0.20800781]\n"
     ]
    }
   ],
   "source": [
    "p = p_0\n",
    "for i in range(10):\n",
    "    p = np.dot(A,p)\n",
    "print('10 iterações:',p)"
   ]
  },
  {
   "cell_type": "code",
   "execution_count": 109,
   "metadata": {},
   "outputs": [
    {
     "name": "stdout",
     "output_type": "stream",
     "text": [
      "100 iterações: [0.4 0.4 0.2]\n"
     ]
    }
   ],
   "source": [
    "p = p_0\n",
    "for i in range(100):\n",
    "    p = np.dot(A,p)\n",
    "print('100 iterações:',p)"
   ]
  },
  {
   "cell_type": "code",
   "execution_count": 110,
   "metadata": {},
   "outputs": [
    {
     "name": "stdout",
     "output_type": "stream",
     "text": [
      "1000 iterações: [0.4 0.4 0.2]\n"
     ]
    }
   ],
   "source": [
    "p = p_0\n",
    "for i in range(1000):\n",
    "    p = np.dot(A,p)\n",
    "print('1000 iterações:',p)"
   ]
  },
  {
   "cell_type": "markdown",
   "metadata": {},
   "source": [
    "![](imagens/ex2.png)"
   ]
  },
  {
   "cell_type": "code",
   "execution_count": 115,
   "metadata": {},
   "outputs": [
    {
     "name": "stdout",
     "output_type": "stream",
     "text": [
      "p_0: [0.5 0.5] \n",
      "A: [[0 1]\n",
      " [1 0]]\n"
     ]
    }
   ],
   "source": [
    "#Exemplo 2 spider trap\n",
    "\n",
    "p_0 = np.array([1/2,1/2])\n",
    "A = np.array([[0, 1], [1, 0]])\n",
    "print ('p_0:',p_0,'\\nA:',A)"
   ]
  },
  {
   "cell_type": "code",
   "execution_count": 117,
   "metadata": {},
   "outputs": [
    {
     "name": "stdout",
     "output_type": "stream",
     "text": [
      "10 iterações: [0.5 0.5]\n"
     ]
    }
   ],
   "source": [
    "p = p_0\n",
    "for i in range(10):\n",
    "    p = np.dot(A,p)\n",
    "print('10 iterações:',p)"
   ]
  },
  {
   "cell_type": "code",
   "execution_count": 54,
   "metadata": {},
   "outputs": [
    {
     "name": "stdout",
     "output_type": "stream",
     "text": [
      "10 iterações: [1 0]\n",
      "100 iterações: [1 0]\n",
      "1000 iterações: [0 1]\n"
     ]
    }
   ],
   "source": [
    "p = p_0\n",
    "for i in range(100):\n",
    "    p = np.dot(A,p)\n",
    "print('100 iterações:',p)\n",
    "\n",
    "p = p_0\n",
    "for i in range(1001):\n",
    "    p = np.dot(A,p)\n",
    "print('1001 iterações:',p)"
   ]
  },
  {
   "cell_type": "markdown",
   "metadata": {},
   "source": [
    "![](imagens/ex3.png)"
   ]
  },
  {
   "cell_type": "code",
   "execution_count": 118,
   "metadata": {},
   "outputs": [
    {
     "name": "stdout",
     "output_type": "stream",
     "text": [
      "p_0: [0 1] \n",
      "A: [[0 1]\n",
      " [0 0]]\n"
     ]
    }
   ],
   "source": [
    "#Exemplo 2 dead end\n",
    "\n",
    "p_0 = np.array([0,1])\n",
    "A = np.array([[0, 1], [0, 0]])\n",
    "print ('p_0:',p_0,'\\nA:',A)"
   ]
  },
  {
   "cell_type": "code",
   "execution_count": 119,
   "metadata": {},
   "outputs": [
    {
     "name": "stdout",
     "output_type": "stream",
     "text": [
      "p_0: [0 1] \n",
      "primeira itteração\n",
      "p_1:  [1 0]\n"
     ]
    }
   ],
   "source": [
    "print('p_0:',p_0,'\\nprimeira itteração')\n",
    "p_1 = np.dot(A,p_0)\n",
    "print ('p_1: ',p_1)"
   ]
  },
  {
   "cell_type": "code",
   "execution_count": 120,
   "metadata": {},
   "outputs": [
    {
     "name": "stdout",
     "output_type": "stream",
     "text": [
      "proxima iteração...\n",
      "p_2:  [0 0] \n",
      "\n",
      "\n"
     ]
    }
   ],
   "source": [
    "print('proxima iteração...')\n",
    "p_2 = np.dot(A,p_1)\n",
    "print ('p_2: ',p_2,'\\n\\n')"
   ]
  },
  {
   "cell_type": "code",
   "execution_count": 121,
   "metadata": {},
   "outputs": [
    {
     "name": "stdout",
     "output_type": "stream",
     "text": [
      "10 iterações: [0 0]\n",
      "100 iterações: [0 0]\n",
      "1001 iterações: [0 0]\n"
     ]
    }
   ],
   "source": [
    "p = p_0\n",
    "for i in range(10):\n",
    "    p = np.dot(A,p)\n",
    "print('10 iterações:',p)\n",
    "\n",
    "p = p_0\n",
    "for i in range(100):\n",
    "    p = np.dot(A,p)\n",
    "print('100 iterações:',p)\n",
    "\n",
    "p = p_0\n",
    "for i in range(1001):\n",
    "    p = np.dot(A,p)\n",
    "print('1001 iterações:',p)"
   ]
  },
  {
   "cell_type": "markdown",
   "metadata": {},
   "source": [
    "![](imagens/ex4.png)"
   ]
  },
  {
   "cell_type": "code",
   "execution_count": 122,
   "metadata": {},
   "outputs": [
    {
     "name": "stdout",
     "output_type": "stream",
     "text": [
      "p_0: [0.33333333 0.33333333 0.33333333] \n",
      "A: [[0.5 0.5 0. ]\n",
      " [0.5 0.  0. ]\n",
      " [0.  0.5 1. ]]\n"
     ]
    }
   ],
   "source": [
    "#Exemplo 3 spider trap and dead end\n",
    "\n",
    "p_0 = np.array([1/3,1/3,1/3])\n",
    "A = np.array([[1/2, 1/2, 0], [1/2, 0, 0], [0, 1/2,1]])\n",
    "print ('p_0:',p_0,'\\nA:',A)"
   ]
  },
  {
   "cell_type": "code",
   "execution_count": 123,
   "metadata": {},
   "outputs": [
    {
     "name": "stdout",
     "output_type": "stream",
     "text": [
      "p_0: [0.33333333 0.33333333 0.33333333] \n",
      "primeira itteração\n",
      "p_1:  [0.33333333 0.16666667 0.5       ]\n"
     ]
    }
   ],
   "source": [
    "print('p_0:',p_0,'\\nprimeira itteração')\n",
    "p_1 = np.dot(A,p_0)\n",
    "print ('p_1: ',p_1)"
   ]
  },
  {
   "cell_type": "code",
   "execution_count": 124,
   "metadata": {},
   "outputs": [
    {
     "name": "stdout",
     "output_type": "stream",
     "text": [
      "proxima iteração...\n",
      "p_2:  [0.25       0.16666667 0.58333333]\n"
     ]
    }
   ],
   "source": [
    "print('proxima iteração...')\n",
    "p_2 = np.dot(A,p_1)\n",
    "print ('p_2: ',p_2)"
   ]
  },
  {
   "cell_type": "code",
   "execution_count": 125,
   "metadata": {},
   "outputs": [
    {
     "name": "stdout",
     "output_type": "stream",
     "text": [
      "proxima iteração...\n",
      "p_3:  [0.20833333 0.125      0.66666667]\n",
      "proxima iteração...\n",
      "p_4:  [0.16666667 0.10416667 0.72916667]\n",
      "proxima iteração...\n",
      "p_5:  [0.13541667 0.08333333 0.78125   ]\n"
     ]
    }
   ],
   "source": [
    "print('proxima iteração...')\n",
    "p_3 = np.dot(A,p_2)\n",
    "print ('p_3: ',p_3)\n",
    "\n",
    "print('proxima iteração...')\n",
    "p_4 = np.dot(A,p_3)\n",
    "print ('p_4: ',p_4)\n",
    "\n",
    "print('proxima iteração...')\n",
    "p_5 = np.dot(A,p_4)\n",
    "print ('p_5: ',p_5)"
   ]
  },
  {
   "cell_type": "code",
   "execution_count": 126,
   "metadata": {},
   "outputs": [
    {
     "name": "stdout",
     "output_type": "stream",
     "text": [
      "10 iterações: [0.046875   0.02897135 0.92415365]\n",
      "100 iterações: [2.43856020e-10 1.50711309e-10 1.00000000e+00]\n",
      "1000 iterações: [3.54008435e-93 2.18789245e-93 1.00000000e+00]\n",
      "100000 iterações: [1.5e-323 9.9e-324 1.0e+000]\n"
     ]
    }
   ],
   "source": [
    "p = p_0\n",
    "for i in range(10):\n",
    "    p = np.dot(A,p)\n",
    "print('10 iterações:',p)\n",
    "\n",
    "p = p_0\n",
    "for i in range(100):\n",
    "    p = np.dot(A,p)\n",
    "print('100 iterações:',p)\n",
    "\n",
    "p = p_0\n",
    "for i in range(1000):\n",
    "    p = np.dot(A,p)\n",
    "print('1000 iterações:',p)\n",
    "\n",
    "p = p_0\n",
    "for i in range(100000):\n",
    "    p = np.dot(A,p)\n",
    "print('100000 iterações:',p)\n"
   ]
  },
  {
   "cell_type": "code",
   "execution_count": null,
   "metadata": {},
   "outputs": [],
   "source": []
  }
 ],
 "metadata": {
  "kernelspec": {
   "display_name": "Python 3",
   "language": "python",
   "name": "python3"
  },
  "language_info": {
   "codemirror_mode": {
    "name": "ipython",
    "version": 3
   },
   "file_extension": ".py",
   "mimetype": "text/x-python",
   "name": "python",
   "nbconvert_exporter": "python",
   "pygments_lexer": "ipython3",
   "version": "3.6.9"
  }
 },
 "nbformat": 4,
 "nbformat_minor": 2
}
