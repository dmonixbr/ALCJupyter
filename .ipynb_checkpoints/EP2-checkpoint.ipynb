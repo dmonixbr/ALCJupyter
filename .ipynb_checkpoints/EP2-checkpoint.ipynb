{
 "cells": [
  {
   "cell_type": "markdown",
   "metadata": {},
   "source": [
    "# Exercício de Programação 2: Python básico\n",
    "\n",
    "<font color=\"red\">**Prazo de submissão: 23:55 do dia 03/09/2019** </font>\n",
    "\n",
    "2019.2 Álgebra Linear Computacional - DCC - UFMG\n",
    "\n",
    "Erickson - Fabricio - Renato\n",
    "\n",
    "Instruções:\n",
    "* Antes de submeter suas soluções, certifique-se de que tudo roda como esperado. Primeiro, **reinicie o kernel** no menu, selecione Kernel$\\rightarrow$Restart e então execute **todas as células** (no menu, Cell$\\rightarrow$Run All)\n",
    "* Apenas o arquivo .ipynb deve ser submetido. Ele não deve ser compactado.\n",
    "* Não deixe de preencher seu nome e número de matrícula na célula a seguir"
   ]
  },
  {
   "cell_type": "markdown",
   "metadata": {},
   "source": [
    "Nome do aluno: Victor Vieira de Melo\n",
    "\n",
    "Matricula: 2019055028"
   ]
  },
  {
   "cell_type": "markdown",
   "metadata": {
    "ExecuteTime": {
     "end_time": "2019-08-14T18:43:54.939490Z",
     "start_time": "2019-08-14T18:43:54.936371Z"
    }
   },
   "source": [
    "## Questão 1\n",
    "\n",
    "Crie as matrizes A, B e C abaixo e resolva as questões:\n",
    "   1. [ ] Calcule $(((A^T B)+B)C^{-1})$\n",
    "   2. [ ] Crie matrizes $\\tilde A_{2x2}, \\tilde B_{2x2}, \\tilde C_{2x2}$, tal que sejam compostas pelo 2 primeiros elementos de cada linha das duas primeiras linhas. E repita a equação do item anterior.\n",
    "\n",
    "**Dica** numpy.full, numpy.eye, numpy.ones e indexação de vetores.\n",
    "\n",
    "$$\n",
    "A = \\begin{bmatrix}\n",
    " 8 & 8 & 8\\\\\n",
    " 8 & 8 & 8\\\\\n",
    " 8 & 8 & 8\n",
    "\\end{bmatrix}_{3\\times 3}\n",
    "\\qquad\n",
    "B = \\begin{bmatrix}\n",
    " 1 & 1 & 1 & 1\\\\\n",
    " 1 & 1 & 1 & 1\\\\\n",
    " 1 & 1 & 1 & 1\n",
    "\\end{bmatrix}_{3\\times 4}\n",
    "\\qquad\n",
    "C = \\begin{bmatrix}\n",
    " 1 & 0 & 0 & 0 \\\\\n",
    " 0 & 1 & 0 & 0 \\\\\n",
    " 0 & 0 & 1 & 0 \\\\\n",
    " 0 & 0 & 0 & 1\n",
    "\\end{bmatrix}_{4\\times 4}\n",
    "$$\n"
   ]
  },
  {
   "cell_type": "code",
   "execution_count": 7,
   "metadata": {
    "ExecuteTime": {
     "end_time": "2019-08-14T18:43:54.939490Z",
     "start_time": "2019-08-14T18:43:54.936371Z"
    }
   },
   "outputs": [
    {
     "name": "stdout",
     "output_type": "stream",
     "text": [
      "(((A^-1*B)+B)C^-1) = \n",
      "[[25. 25. 25. 25.]\n",
      " [25. 25. 25. 25.]\n",
      " [25. 25. 25. 25.]]\n",
      "(((A^-1*B)+B)C^-1) = \n",
      "[[17. 17.]\n",
      " [17. 17.]]\n"
     ]
    }
   ],
   "source": [
    "import numpy as np\n",
    "\n",
    "matrizA = np.full([3,3],8)\n",
    "matrizB = np.ones([3,4])\n",
    "matrizC = np.eye(4)\n",
    "\n",
    "print(\"(((A^-1*B)+B)C^-1) = \")\n",
    "print(np.dot(np.add(np.dot(matrizA,matrizB),matrizB),matrizC))\n",
    "\n",
    "A22 = matrizA[:2,:2]\n",
    "B22 = matrizB[:2,:2]\n",
    "C22 = matrizC[:2,:2]\n",
    "\n",
    "print(\"(((A^-1*B)+B)C^-1) = \")\n",
    "print(np.dot(np.add(np.dot(A22,B22),B22),C22))"
   ]
  },
  {
   "cell_type": "markdown",
   "metadata": {
    "ExecuteTime": {
     "end_time": "2019-08-14T18:43:54.939490Z",
     "start_time": "2019-08-14T18:43:54.936371Z"
    }
   },
   "source": [
    "## Questão 2\n",
    "**2A.** Escreva uma função python que recebe $m$ como entrada e executa os seguintes passos:\n",
    "   1. [ ] gera uma matriz aleatória $W_{m \\times 4}$ (função **numpy.random.randn**),\n",
    "   2. [ ] divide cada uma das entradas por $\\sqrt{m}$ (salva resultado em $\\tilde W$),\n",
    "   3. [ ] calcula $Z = \\tilde W^\\top \\times \\tilde W$,\n",
    "   4. [ ] imprime $Z$,\n",
    "   5. [ ] calcula a norma Frobenius da diferença entre $Z$ e a matriz identidade $I_{4 \\times 4}$."
   ]
  },
  {
   "cell_type": "code",
   "execution_count": 13,
   "metadata": {
    "ExecuteTime": {
     "end_time": "2019-08-14T18:43:54.939490Z",
     "start_time": "2019-08-14T18:43:54.936371Z"
    }
   },
   "outputs": [
    {
     "name": "stdout",
     "output_type": "stream",
     "text": [
      "26.210426402315345\n"
     ]
    }
   ],
   "source": [
    "def exerc2(m):\n",
    "    \n",
    "    W = np.random.randn(m,4)\n",
    "    Wmm = W*(m**(1/2))\n",
    "    Z = np.transpose(Wmm)\n",
    "    Z = Z*Wmm\n",
    "    \n",
    "    \n",
    "    #print((((Z-np.eye(4))**2).sum())**(1/2))\n",
    "    \n",
    "    \n",
    "exerc2(4)\n",
    "\n"
   ]
  },
  {
   "cell_type": "markdown",
   "metadata": {},
   "source": [
    "**2B.** Qual a norma da diferença obtida para $m=100$? E para $m=10000$?"
   ]
  },
  {
   "cell_type": "markdown",
   "metadata": {},
   "source": [
    "Resposta:"
   ]
  },
  {
   "cell_type": "markdown",
   "metadata": {},
   "source": [
    "**2C.** O que podemos dizer sobre a matriz $\\tilde W$?"
   ]
  },
  {
   "cell_type": "markdown",
   "metadata": {},
   "source": [
    "Reposta:"
   ]
  },
  {
   "cell_type": "markdown",
   "metadata": {},
   "source": [
    "## Questão 3 \n",
    " Seja $x = (1,2,3)^\\top$. \n",
    " Calcule a projeção $x_u$ de $x$ em $u = (1,1,0)^\\top$ e a projeção $x_v$ de $x$ em $v=(1,-1,1)^\\top$."
   ]
  },
  {
   "cell_type": "markdown",
   "metadata": {},
   "source": [
    "Resposta:"
   ]
  },
  {
   "cell_type": "markdown",
   "metadata": {},
   "source": [
    "## Questão 4\n",
    "Encontre os autovalores e autovetores para ambas matrizes Markovianas $A$ e $A^\\infty$. Explique a partir dessas respotas por que $A^{100} \\approx A^\\infty$:\n",
    "\n",
    "$$\n",
    "A = \\begin{bmatrix}\n",
    " .6 & .2 \\\\\n",
    " .4 & .8\n",
    "\\end{bmatrix}_{2\\times 2}\n",
    "\\qquad\n",
    "A^\\infty = \\begin{bmatrix}\n",
    " \\frac{1}{3} & \\frac{1}{3} \\\\\n",
    " \\frac{2}{3} & \\frac{2}{3}\n",
    "\\end{bmatrix}_{2\\times 2}\n",
    "$$"
   ]
  },
  {
   "cell_type": "markdown",
   "metadata": {},
   "source": [
    "Resposta:"
   ]
  }
 ],
 "metadata": {
  "kernelspec": {
   "display_name": "Python 3",
   "language": "python",
   "name": "python3"
  },
  "language_info": {
   "codemirror_mode": {
    "name": "ipython",
    "version": 3
   },
   "file_extension": ".py",
   "mimetype": "text/x-python",
   "name": "python",
   "nbconvert_exporter": "python",
   "pygments_lexer": "ipython3",
   "version": "3.6.9"
  }
 },
 "nbformat": 4,
 "nbformat_minor": 2
}
