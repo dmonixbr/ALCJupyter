{
 "cells": [
  {
   "cell_type": "markdown",
   "metadata": {},
   "source": [
    "# Exercício de Programação 1: Python básico\n",
    "\n",
    "<font color=\"red\">**Prazo de submissão: 23:55 do dia 22/08/2019** </font>\n",
    "\n",
    "2019.2 Álgebra Linear Computacional - DCC - UFMG\n",
    "\n",
    "Erickson - Fabricio - Renato\n",
    "\n",
    "Instruções:\n",
    "* Antes de submeter suas soluções, certifique-se de que tudo roda como esperado. Primeiro, **reinicie o kernel** no menu, selecione Kernel$\\rightarrow$Restart e então execute **todas as células** (no menu, Cell$\\rightarrow$Run All)\n",
    "* Apenas o arquivo .ipynb deve ser submetido. Ele não deve ser compactado.\n",
    "* Não deixe de preencher seu nome e número de matrícula na célula a seguir"
   ]
  },
  {
   "cell_type": "markdown",
   "metadata": {},
   "source": [
    "Nome do aluno: Victor Vieira de Melo\n",
    "\n",
    "Matricula: 2019055028"
   ]
  },
  {
   "cell_type": "code",
   "execution_count": 10,
   "metadata": {
    "ExecuteTime": {
     "end_time": "2019-08-14T18:43:54.939490Z",
     "start_time": "2019-08-14T18:43:54.936371Z"
    }
   },
   "outputs": [
    {
     "name": "stdout",
     "output_type": "stream",
     "text": [
      "1\n",
      "2\n",
      "3\n",
      "4\n",
      "5\n",
      "6\n",
      "7\n",
      "8\n",
      "9\n",
      "10\n"
     ]
    }
   ],
   "source": [
    "# Exercício 1 - Imprima na tela os números de 1 a 10 e armazene-os em uma lista.\n",
    "minha_lista = [1,2,3,4,5,6,7,8,9,10]\n",
    "for numero in minha_lista:\n",
    "    print(numero)"
   ]
  },
  {
   "cell_type": "code",
   "execution_count": 13,
   "metadata": {
    "ExecuteTime": {
     "end_time": "2019-08-14T18:45:00.942384Z",
     "start_time": "2019-08-14T18:45:00.940602Z"
    }
   },
   "outputs": [
    {
     "name": "stdout",
     "output_type": "stream",
     "text": [
      "Ola Mundo!\n"
     ]
    }
   ],
   "source": [
    "# Exercício 2 - Crie duas strings e concatene as duas em uma terceira string\n",
    "string1 = \"Ola \"\n",
    "string2 = \"Mundo!\"\n",
    "string3 = string1+string2\n",
    "print(string3)"
   ]
  },
  {
   "cell_type": "code",
   "execution_count": 14,
   "metadata": {},
   "outputs": [
    {
     "name": "stdout",
     "output_type": "stream",
     "text": [
      "3\n"
     ]
    }
   ],
   "source": [
    "# Exercício 3 - Crie uma tupla com os seguintes elementos: 1, 2, 2, 3, 4, 4, 4, 5 e depois utilize a função count do \n",
    "# objeto tupla para verificar quantas vezes o número 4 aparece na tupla\n",
    "tupla = (1,2,2,3,4,4,4,5)\n",
    "print(tupla.count(4))"
   ]
  },
  {
   "cell_type": "code",
   "execution_count": 18,
   "metadata": {
    "ExecuteTime": {
     "end_time": "2019-08-14T18:46:37.414570Z",
     "start_time": "2019-08-14T18:46:37.408896Z"
    }
   },
   "outputs": [
    {
     "name": "stdout",
     "output_type": "stream",
     "text": [
      "{'1': 'Um', '2': 'Dois', '3': 'Tres!'}\n"
     ]
    }
   ],
   "source": [
    "# Exercício 4 - Crie um dicionário com 3 chaves e 3 valores e imprima na tela\n",
    "dicionario = {'1':'Um','2':\"Dois\",\"3\":\"Tres!\"}\n",
    "print(dicionario)"
   ]
  },
  {
   "cell_type": "code",
   "execution_count": 22,
   "metadata": {
    "ExecuteTime": {
     "end_time": "2019-08-14T18:47:48.172958Z",
     "start_time": "2019-08-14T18:47:48.171251Z"
    }
   },
   "outputs": [
    {
     "name": "stdout",
     "output_type": "stream",
     "text": [
      "Quatro\n"
     ]
    }
   ],
   "source": [
    "# Exercício 5 - Adicione mais um elemento ao dicionário criado no exercício anterior e imprima na tela\n",
    "dicionario = {'1':'Um','2':\"Dois\",\"3\":\"Tres!\",\"4\":\"Quatro\"}\n",
    "print(dicionario[\"4\"])"
   ]
  },
  {
   "cell_type": "code",
   "execution_count": 6,
   "metadata": {},
   "outputs": [],
   "source": [
    "# Exercício 6 - Crie um novo dicionário invertendo o anterior (isto é, usando os valores como chave e vice-versa)"
   ]
  },
  {
   "cell_type": "code",
   "execution_count": 27,
   "metadata": {},
   "outputs": [
    {
     "name": "stdout",
     "output_type": "stream",
     "text": [
      "eu gosto de iogurte\n"
     ]
    }
   ],
   "source": [
    "# Exercício 7 - Crie uma função que receba uma string como argumento e retorne a mesma string em letras maiúsculas.\n",
    "# Faça uma chamada à função, passando como parâmetro uma string\n",
    "def minusculo(_str):\n",
    "    string = _str.lower()\n",
    "    return string\n",
    "\n",
    "print(minusculo(\"EU GOSTO DE IOGURTE\"))"
   ]
  },
  {
   "cell_type": "code",
   "execution_count": 34,
   "metadata": {},
   "outputs": [
    {
     "name": "stdout",
     "output_type": "stream",
     "text": [
      "['Mel', 'Pera', 'Maça', 'Goiaba', 'Biscoito', 'Bolacha']\n"
     ]
    }
   ],
   "source": [
    "# Exercício 8 - Crie uma função que receba como parâmetro uma lista de 4 elementos, adicione 2 elementos a lista e \n",
    "# imprima a lista. Esta função não deve retornar nada.\n",
    "def add_lista(_lista):\n",
    "    _lista.append('Biscoito')\n",
    "    _lista.append('Bolacha')\n",
    "\n",
    "    print(_lista)\n",
    "\n",
    "listinha = ['Mel','Pera','Maça','Goiaba']\n",
    "\n",
    "add_lista(listinha)\n",
    "    "
   ]
  },
  {
   "cell_type": "code",
   "execution_count": 29,
   "metadata": {
    "ExecuteTime": {
     "end_time": "2019-08-14T19:01:46.177621Z",
     "start_time": "2019-08-14T19:01:46.174811Z"
    }
   },
   "outputs": [
    {
     "name": "stdout",
     "output_type": "stream",
     "text": [
      "Qual a temperatura? 23\n",
      "Busque seus casacos.\n"
     ]
    }
   ],
   "source": [
    "# Exercício 9 - Faça a correção dos erros no código abaixo e execute o programa. Dica: são 3 erros.\n",
    "temperatura = float(input('Qual a temperatura? '))\n",
    "if temperatura > 30:\n",
    "    print('Vista roupas leves.')\n",
    "else:\n",
    "    print('Busque seus casacos.')"
   ]
  },
  {
   "cell_type": "code",
   "execution_count": 30,
   "metadata": {},
   "outputs": [
    {
     "name": "stdout",
     "output_type": "stream",
     "text": [
      "A frase 'All models are wrong, but some are useful (George Box)' tem 4 r's\n"
     ]
    }
   ],
   "source": [
    "# Exercício 10 - Crie uma função que conte quantas vezes a letra \"r\" aparece na frase abaixo. Use um placeholder (%) na \n",
    "# sua instrução de impressão\n",
    "frase = \"All models are wrong, but some are useful (George Box)\" \n",
    "def contador(_frase):\n",
    "    erres = _frase.count('r')\n",
    "    return erres\n",
    "print(\"A frase '{}' tem {} r's\".format(frase,contador(frase)))"
   ]
  },
  {
   "cell_type": "code",
   "execution_count": null,
   "metadata": {},
   "outputs": [],
   "source": []
  }
 ],
 "metadata": {
  "kernelspec": {
   "display_name": "Python 3",
   "language": "python",
   "name": "python3"
  },
  "language_info": {
   "codemirror_mode": {
    "name": "ipython",
    "version": 3
   },
   "file_extension": ".py",
   "mimetype": "text/x-python",
   "name": "python",
   "nbconvert_exporter": "python",
   "pygments_lexer": "ipython3",
   "version": "3.6.5"
  }
 },
 "nbformat": 4,
 "nbformat_minor": 2
}
