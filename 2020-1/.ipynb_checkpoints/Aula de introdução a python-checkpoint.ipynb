{
 "cells": [
  {
   "cell_type": "code",
   "execution_count": 9,
   "metadata": {
    "scrolled": true
   },
   "outputs": [
    {
     "name": "stdout",
     "output_type": "stream",
     "text": [
      "[44]\n",
      "[44, 66]\n",
      "[44, 66, 77, 88]\n",
      "[44, 66, 77, 88, 'bem louco', 'Louco']\n",
      "[44, 66, 77, 88, 'bem louco', 'Louco', [...]]\n",
      "[44, 66, 77, 88, 'bem louco', 'Louco', [...]]\n"
     ]
    }
   ],
   "source": [
    "minha_lista_1 = [44]\n",
    "print(minha_lista_1)\n",
    "minha_lista_1.append(66)\n",
    "print(minha_lista_1)\n",
    "minha_lista_1 += [77,88]\n",
    "print(minha_lista_1)\n",
    "minha_lista_1 += ['bem louco','Louco']\n",
    "print(minha_lista_1)\n",
    "minha_lista_1.append(minha_lista_1)\n",
    "print(minha_lista_1)\n",
    "print(minha_lista_1[-1])"
   ]
  },
  {
   "cell_type": "code",
   "execution_count": 15,
   "metadata": {},
   "outputs": [
    {
     "name": "stdout",
     "output_type": "stream",
     "text": [
      "(1, 2, 3)\n",
      "(1, 2, 3, 4, 5, 6)\n",
      "<class 'tuple'>\n",
      "(['abc'], 'abc', 1, 2, 3, 4)\n",
      "(['abc'], 'abc', 1, 2, 3, 4, ['abc'], 'abc', 1, 2, 3, 4)\n"
     ]
    }
   ],
   "source": [
    "#tuplas\n",
    "tupla_1 = (1,2,3)\n",
    "print(tupla_1)\n",
    "tupla_1 += (4,5,6)\n",
    "print(tupla_1)\n",
    "print(type(tupla_1))\n",
    "tupla_2 = (['abc'],'abc',1,2,3,4)\n",
    "print(tupla_2)\n",
    "tupla_2 += tupla_2\n",
    "print(tupla_2)"
   ]
  },
  {
   "cell_type": "code",
   "execution_count": 22,
   "metadata": {},
   "outputs": [
    {
     "name": "stdout",
     "output_type": "stream",
     "text": [
      "{'Nome': 'Victor', 'Pontos': 42}\n",
      "Victor\n",
      "{'Nome': 'Victor', 'Pontos': 42, 'Endereço': 'Rua Gustavo Ladeira 11'}\n"
     ]
    }
   ],
   "source": [
    "#Dicionario\n",
    "dicionario1 = {'Nome':'Victor','Pontos':42}\n",
    "print(dicionario1)\n",
    "print(dicionario1['Nome'])\n",
    "dicionario1['Endereço'] = 'Rua Gustavo Ladeira 11'\n",
    "print(dicionario1)"
   ]
  },
  {
   "cell_type": "code",
   "execution_count": 35,
   "metadata": {},
   "outputs": [
    {
     "name": "stdout",
     "output_type": "stream",
     "text": [
      "o valor da variavel é 10\n",
      "O valor da variavel é 30\n",
      "O valor de pi é 3.141592653589793115997963468544185161590576171875000000000000000000000000000000000000000000\n",
      "A constante de euler vale 2.71828182845904509080\n"
     ]
    }
   ],
   "source": [
    "#uso do .format no print\n",
    "variavel = 10\n",
    "string = 'o valor da variavel é'\n",
    "print(string,variavel)\n",
    "variavel = variavel + 20\n",
    "print('O valor da variavel é {}'.format(variavel))\n",
    "\n",
    "import math\n",
    "\n",
    "print(\"O valor de pi é %.90f\"%math.pi)\n",
    "print(\"A constante de euler vale %.20f\"%math.e)"
   ]
  },
  {
   "cell_type": "code",
   "execution_count": 41,
   "metadata": {},
   "outputs": [
    {
     "name": "stdout",
     "output_type": "stream",
     "text": [
      "1\n",
      "2\n",
      "3\n",
      "4\n",
      "5\n",
      "6\n",
      "7\n",
      "8\n",
      "9\n",
      "Ainda no primeiro loop\n",
      "0\n",
      "1\n",
      "2\n",
      "3\n",
      "4\n",
      "5\n",
      "6\n",
      "7\n",
      "8\n",
      "Fim do segundo loop\n",
      "1\n",
      "2\n",
      "3\n",
      "4\n",
      "Fim do terceiro loop\n",
      "1 patinho(s) for(am) passear\n",
      "2 patinho(s) for(am) passear\n",
      "3 patinho(s) for(am) passear\n",
      "4 patinho(s) for(am) passear\n",
      "5 patinho(s) for(am) passear\n",
      "Fim do quarto loop\n"
     ]
    }
   ],
   "source": [
    "#loops em python, uso do for e while\n",
    "#for em C:\n",
    "#for(int i=0;i<100;i++)\n",
    "\n",
    "for i in [1,2,3,4,5,6,7,8,9]:\n",
    "    print(i)\n",
    "print('Ainda no primeiro loop')\n",
    "#função range\n",
    "for x in range(9):\n",
    "    print(x)\n",
    "print(\"Fim do segundo loop\")\n",
    "#Note, que nesse caso, o range gera uma lista de 0 a 8, começando do 0\n",
    "for z in range(1,5):\n",
    "    print(z)\n",
    "print(\"Fim do terceiro loop\")\n",
    "#Note que nesse caso, ele começa do 1, mas itera até o valor menos um que foi dado de entrada, nesse caso, a entrada foi 5 e o valor de saida foi 4\n",
    "#Interessante comentar que o for de python funciona tambem como um foreach em PHP, Java e outras linguagens que apresentam\n",
    "#a ferramenta.\n",
    "for i in range(1,6):\n",
    "    print(\"%.0f patinho(s) for(am) passear\"%i)\n",
    "print(\"Fim do quarto loop\")"
   ]
  },
  {
   "cell_type": "code",
   "execution_count": 43,
   "metadata": {},
   "outputs": [
    {
     "name": "stdout",
     "output_type": "stream",
     "text": [
      "range(0, 30)\n",
      "[0, 1, 2, 3, 4, 5, 6, 7, 8, 9, 10, 11, 12, 13, 14, 15, 16, 17, 18, 19, 20, 21, 22, 23, 24, 25, 26, 27, 28, 29]\n"
     ]
    }
   ],
   "source": [
    "#Mais sobre a função range\n",
    "#para dar cast em range para lista é preciso usar a conversão\n",
    "print(range(0,30))\n",
    "print(list(range(0,30)))"
   ]
  },
  {
   "cell_type": "code",
   "execution_count": 46,
   "metadata": {},
   "outputs": [
    {
     "name": "stdout",
     "output_type": "stream",
     "text": [
      "1\n",
      "2\n",
      "3\n",
      "4\n",
      "5\n",
      "6\n",
      "1\n",
      "2\n",
      "3\n",
      "4\n",
      "5\n",
      "6\n"
     ]
    }
   ],
   "source": [
    "#Mais sobre for e listas\n",
    "for i in [[1,2],[3,4],[5,6]]:\n",
    "    print(i[0])\n",
    "    print(i[1])\n",
    "#ou, podemos usar fors aninhados\n",
    "for i in [[1,2],[3,4],[5,6]]:\n",
    "    for j in i:\n",
    "        print(j)"
   ]
  },
  {
   "cell_type": "code",
   "execution_count": 49,
   "metadata": {},
   "outputs": [
    {
     "name": "stdout",
     "output_type": "stream",
     "text": [
      "1\n",
      "3\n",
      "5\n",
      "Nesse caso ele vai iterar sobre as chaves\n",
      "1 2\n",
      "3 4\n",
      "5 6\n",
      "Nesse caso, ele está imprimindo tanto a chave, tanto o valor da chave\n"
     ]
    }
   ],
   "source": [
    "#processo iterativo entre for e dicionarios\n",
    "dict_1 = {1:2,3:4,5:6}\n",
    "for i in dict_1:\n",
    "    print(i)\n",
    "print(\"Nesse caso ele vai iterar sobre as chaves\")\n",
    "for i in dict_1:\n",
    "    print(i,dict_1[i])\n",
    "print(\"Nesse caso, ele está imprimindo tanto a chave, tanto o valor da chave\")"
   ]
  },
  {
   "cell_type": "code",
   "execution_count": 50,
   "metadata": {},
   "outputs": [
    {
     "name": "stdout",
     "output_type": "stream",
     "text": [
      "0.30000000000000004\n"
     ]
    }
   ],
   "source": [
    "#Soma de 0.1 tres vezes\n",
    "print(0.1+0.1+0.1)\n",
    "#Note que 0.1 nao tem representação exata na computação"
   ]
  },
  {
   "cell_type": "code",
   "execution_count": 51,
   "metadata": {},
   "outputs": [
    {
     "name": "stdout",
     "output_type": "stream",
     "text": [
      "input: [0.1, 0.1, 0.1, 0.1, 0.1, 0.1, 0.1, 0.1, 0.1, 0.1]\n",
      "sum(): 0.9999999999999999\n",
      "math.fsum(): 1.0\n"
     ]
    }
   ],
   "source": [
    "#Diferentes maneiras de se somar os numeros podem dar resultados diferentes.\n",
    "values = [0.1] * 10\n",
    "print(\"input:\",values)\n",
    "print(\"sum():\",sum(values))\n",
    "print(\"math.fsum():\",math.fsum(values))\n",
    "#math.fsum é o ideal a ser usado para evitar erros de arredondamentos em python"
   ]
  },
  {
   "cell_type": "code",
   "execution_count": 52,
   "metadata": {},
   "outputs": [],
   "source": [
    "#NUMPY"
   ]
  },
  {
   "cell_type": "code",
   "execution_count": 53,
   "metadata": {},
   "outputs": [
    {
     "data": {
      "text/plain": [
       "[1, 2, 3, 1, 2, 3]"
      ]
     },
     "execution_count": 53,
     "metadata": {},
     "output_type": "execute_result"
    }
   ],
   "source": [
    "[1,2,3]+[1,2,3]"
   ]
  },
  {
   "cell_type": "code",
   "execution_count": 55,
   "metadata": {},
   "outputs": [
    {
     "name": "stdout",
     "output_type": "stream",
     "text": [
      "[1 2 3]\n"
     ]
    }
   ],
   "source": [
    "#para fazer somas de arrays, é necessario utilizar o numpy\n",
    "import numpy as np\n",
    "vetor_1 = np.array([1,2,3])\n",
    "#array declarado\n",
    "print(vetor_1)"
   ]
  },
  {
   "cell_type": "code",
   "execution_count": 56,
   "metadata": {},
   "outputs": [
    {
     "name": "stdout",
     "output_type": "stream",
     "text": [
      "[[1 2 3]\n",
      " [4 5 6]\n",
      " [7 8 9]]\n"
     ]
    }
   ],
   "source": [
    "#matriz\n",
    "matriz = np.array([[1,2,3],[4,5,6],[7,8,9]])\n",
    "print(matriz)"
   ]
  },
  {
   "cell_type": "code",
   "execution_count": 70,
   "metadata": {},
   "outputs": [
    {
     "name": "stdout",
     "output_type": "stream",
     "text": [
      "[[0. 0. 0. 0. 0.]\n",
      " [0. 0. 0. 0. 0.]\n",
      " [0. 0. 0. 0. 0.]\n",
      " [0. 0. 0. 0. 0.]\n",
      " [0. 0. 0. 0. 0.]]\n"
     ]
    }
   ],
   "source": [
    "np.zeros(3)\n",
    "print(np.zeros((5,5)))"
   ]
  },
  {
   "cell_type": "code",
   "execution_count": 69,
   "metadata": {},
   "outputs": [
    {
     "data": {
      "text/plain": [
       "array([[1., 1., 1., 1., 1.],\n",
       "       [1., 1., 1., 1., 1.],\n",
       "       [1., 1., 1., 1., 1.],\n",
       "       [1., 1., 1., 1., 1.],\n",
       "       [1., 1., 1., 1., 1.]])"
      ]
     },
     "execution_count": 69,
     "metadata": {},
     "output_type": "execute_result"
    }
   ],
   "source": [
    "np.ones((5,5))"
   ]
  },
  {
   "cell_type": "code",
   "execution_count": null,
   "metadata": {},
   "outputs": [],
   "source": []
  }
 ],
 "metadata": {
  "kernelspec": {
   "display_name": "Python 3",
   "language": "python",
   "name": "python3"
  },
  "language_info": {
   "codemirror_mode": {
    "name": "ipython",
    "version": 3
   },
   "file_extension": ".py",
   "mimetype": "text/x-python",
   "name": "python",
   "nbconvert_exporter": "python",
   "pygments_lexer": "ipython3",
   "version": "3.8.1"
  }
 },
 "nbformat": 4,
 "nbformat_minor": 4
}
