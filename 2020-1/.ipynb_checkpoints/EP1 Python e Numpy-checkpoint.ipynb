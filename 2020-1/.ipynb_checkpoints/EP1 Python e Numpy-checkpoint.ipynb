{
 "cells": [
  {
   "cell_type": "markdown",
   "metadata": {},
   "source": [
    "# Exercício de Programação 1\n",
    "\n",
    "<font color=\"red\">**Prazo de submissão: 23:55 do dia 19/03/2020** </font>\n",
    "\n",
    "2020.1 Álgebra Linear Computacional - DCC - UFMG\n",
    "\n",
    "Erickson - Fabricio\n",
    "\n",
    "Instruções:\n",
    "* Antes de submeter suas soluções, certifique-se de que tudo roda como esperado. Primeiro, **reinicie o kernel** no menu, selecione Kernel$\\rightarrow$Restart e então execute **todas as células** (no menu, Cell$\\rightarrow$Run All)\n",
    "* Apenas o arquivo .ipynb deve ser submetido. Ele não deve ser compactado.\n",
    "* Não deixe de preencher seu nome e número de matrícula na célula a seguir"
   ]
  },
  {
   "cell_type": "markdown",
   "metadata": {},
   "source": [
    "Nome do aluno: Victor Vieira de Melo\n",
    "\n",
    "Matricula: 2019055028"
   ]
  },
  {
   "cell_type": "markdown",
   "metadata": {},
   "source": [
    "## Parte 1: Python básico"
   ]
  },
  {
   "cell_type": "code",
   "execution_count": 1,
   "metadata": {
    "ExecuteTime": {
     "end_time": "2019-08-14T18:43:54.939490Z",
     "start_time": "2019-08-14T18:43:54.936371Z"
    }
   },
   "outputs": [
    {
     "name": "stdout",
     "output_type": "stream",
     "text": [
      "1\n",
      "2\n",
      "3\n",
      "4\n",
      "5\n",
      "6\n",
      "7\n",
      "8\n",
      "9\n",
      "10\n",
      "[1, 2, 3, 4, 5, 6, 7, 8, 9, 10]\n"
     ]
    }
   ],
   "source": [
    "# Exercício 1 - Imprima na tela os números de 1 a 10 e armazene-os em uma lista.\n",
    "lista = []\n",
    "for i in range(1,11):\n",
    "    print(i)\n",
    "    lista.append(i)\n",
    "print(lista)"
   ]
  },
  {
   "cell_type": "code",
   "execution_count": 2,
   "metadata": {
    "ExecuteTime": {
     "end_time": "2019-08-14T18:45:00.942384Z",
     "start_time": "2019-08-14T18:45:00.940602Z"
    }
   },
   "outputs": [
    {
     "name": "stdout",
     "output_type": "stream",
     "text": [
      "ALC é muito bom\n"
     ]
    }
   ],
   "source": [
    "# Exercício 2 - Crie duas strings e concatene as duas em uma terceira string\n",
    "string1 = \"ALC \"\n",
    "string2 = \"é muito bom\"\n",
    "string3 = string1+string2\n",
    "print(string3)"
   ]
  },
  {
   "cell_type": "code",
   "execution_count": 3,
   "metadata": {},
   "outputs": [
    {
     "name": "stdout",
     "output_type": "stream",
     "text": [
      "3\n"
     ]
    }
   ],
   "source": [
    "# Exercício 3 - Crie uma tupla com os seguintes elementos: 1, 2, 2, 3, 4, 4, 4, 5 e depois utilize a função count do \n",
    "# objeto tupla para verificar quantas vezes o número 4 aparece na tupla\n",
    "tupla = (1,2,2,3,4,4,4,5)\n",
    "numero_de_4 = tupla.count(4)\n",
    "print(numero_de_4)"
   ]
  },
  {
   "cell_type": "code",
   "execution_count": 4,
   "metadata": {
    "ExecuteTime": {
     "end_time": "2019-08-14T18:46:37.414570Z",
     "start_time": "2019-08-14T18:46:37.408896Z"
    }
   },
   "outputs": [
    {
     "name": "stdout",
     "output_type": "stream",
     "text": [
      "{'chave1': 1, 'chave2': 2, 'chave3': 3}\n",
      "1\n",
      "2\n",
      "3\n"
     ]
    }
   ],
   "source": [
    "# Exercício 4 - Crie um dicionário com 3 chaves e 3 valores e imprima na tela\n",
    "dicionario = {\"chave1\":1,\"chave2\":2,\"chave3\":3}\n",
    "print(dicionario)\n",
    "print(dicionario[\"chave1\"])\n",
    "print(dicionario[\"chave2\"])\n",
    "print(dicionario[\"chave3\"])"
   ]
  },
  {
   "cell_type": "code",
   "execution_count": 5,
   "metadata": {
    "ExecuteTime": {
     "end_time": "2019-08-14T18:47:48.172958Z",
     "start_time": "2019-08-14T18:47:48.171251Z"
    }
   },
   "outputs": [
    {
     "name": "stdout",
     "output_type": "stream",
     "text": [
      "{'chave1': 1, 'chave2': 2, 'chave3': 3, 'chave4': 4}\n",
      "1\n",
      "2\n",
      "3\n",
      "4\n"
     ]
    }
   ],
   "source": [
    "# Exercício 5 - Adicione mais um elemento ao dicionário criado no exercício anterior e imprima na tela\n",
    "dicionario[\"chave4\"] = 4\n",
    "print(dicionario)\n",
    "print(dicionario[\"chave1\"])\n",
    "print(dicionario[\"chave2\"])\n",
    "print(dicionario[\"chave3\"])\n",
    "print(dicionario[\"chave4\"])"
   ]
  },
  {
   "cell_type": "code",
   "execution_count": 6,
   "metadata": {},
   "outputs": [
    {
     "name": "stdout",
     "output_type": "stream",
     "text": [
      "{1: 'chave1', 2: 'chave2', 3: 'chave3', 4: 'chave4'}\n"
     ]
    }
   ],
   "source": [
    "# Exercício 6 - Crie um novo dicionário invertendo o anterior (isto é, usando os valores como chave e vice-versa)\n",
    "invertido = {}\n",
    "for i in range(1,5):\n",
    "    invertido[i] = \"chave\"+str(i)\n",
    "print(invertido)"
   ]
  },
  {
   "cell_type": "code",
   "execution_count": 7,
   "metadata": {},
   "outputs": [
    {
     "name": "stdout",
     "output_type": "stream",
     "text": [
      "OLA MUNDO\n"
     ]
    }
   ],
   "source": [
    "# Exercício 7 - Crie uma função que receba uma string como argumento e retorne a mesma string em letras maiúsculas.\n",
    "# Faça uma chamada à função, passando como parâmetro uma string\n",
    "string = \"ola mundo\"\n",
    "def uperstr(_str):\n",
    "    super_string = _str.upper()\n",
    "    return super_string\n",
    "print(uperstr(string))"
   ]
  },
  {
   "cell_type": "code",
   "execution_count": 8,
   "metadata": {},
   "outputs": [
    {
     "name": "stdout",
     "output_type": "stream",
     "text": [
      "[1, 2, 3, 4]\n",
      "[1, 2, 3, 4, 5, 6]\n"
     ]
    }
   ],
   "source": [
    "# Exercício 8 - Crie uma função que receba como parâmetro uma lista de 4 elementos, adicione 2 elementos a lista e \n",
    "# imprima a lista. Esta função não deve retornar nada.\n",
    "lista = [1,2,3,4]\n",
    "def add_elemento(_list):\n",
    "    _list.append(5)\n",
    "    _list.append(6)\n",
    "\n",
    "print(lista)\n",
    "add_elemento(lista)\n",
    "print(lista)"
   ]
  },
  {
   "cell_type": "code",
   "execution_count": 9,
   "metadata": {
    "ExecuteTime": {
     "end_time": "2019-08-14T19:01:46.177621Z",
     "start_time": "2019-08-14T19:01:46.174811Z"
    }
   },
   "outputs": [
    {
     "name": "stdout",
     "output_type": "stream",
     "text": [
      "Qual a temperatura? 50\n",
      "Vista roupas leves.\n"
     ]
    }
   ],
   "source": [
    "# Exercício 9 - Faça a correção dos erros no código abaixo e execute o programa. Dica: são 3 erros.\n",
    "temperatura = float(input('Qual a temperatura? '))\n",
    "if temperatura > 30:\n",
    "    print('Vista roupas leves.')\n",
    "else:\n",
    "    print('Busque seus casacos.')"
   ]
  },
  {
   "cell_type": "code",
   "execution_count": 10,
   "metadata": {},
   "outputs": [
    {
     "name": "stdout",
     "output_type": "stream",
     "text": [
      "A frase tem 4 r's\n"
     ]
    }
   ],
   "source": [
    "# Exercício 10 - Crie uma função que conte quantas vezes a letra \"r\" aparece na frase abaixo. Use um placeholder (%) na \n",
    "# sua instrução de impressão\n",
    "frase = \"All models are wrong, but some are useful (George Box)\"\n",
    "def conta_r(_str):\n",
    "    return _str.count('r')\n",
    "\n",
    "print(\"A frase tem %.0f r's\"% conta_r(frase))"
   ]
  },
  {
   "cell_type": "markdown",
   "metadata": {},
   "source": [
    "## Parte 2: numpy"
   ]
  },
  {
   "cell_type": "markdown",
   "metadata": {},
   "source": [
    "## Questão 1\n",
    "\n",
    "Crie as matrizes A, B e C abaixo e resolva as questões:\n",
    "1. [ ] Calcule $(((A^T B)+B)C^{-1})$\n",
    "2. [ ] Crie matrizes $\\tilde A_{2x2}, \\tilde B_{2x2}, \\tilde C_{2x2}$, tal que sejam compostas pelo 2 primeiros elementos de cada linha das duas primeiras linhas. E repita a equação do item anterior.\n",
    "\n",
    "**Dica** numpy.full, numpy.eye, numpy.ones e indexação de vetores.\n",
    "\n",
    "$$\n",
    "A = \\begin{bmatrix}\n",
    " 8 & 8 & 8\\\\\n",
    " 8 & 8 & 8\\\\\n",
    " 8 & 8 & 8\n",
    "\\end{bmatrix}_{3\\times 3}\n",
    "\\qquad\n",
    "B = \\begin{bmatrix}\n",
    " 1 & 1 & 1 & 1\\\\\n",
    " 1 & 1 & 1 & 1\\\\\n",
    " 1 & 1 & 1 & 1\n",
    "\\end{bmatrix}_{3\\times 4}\n",
    "\\qquad\n",
    "C = \\begin{bmatrix}\n",
    " 1 & 0 & 0 & 0 \\\\\n",
    " 0 & 1 & 0 & 0 \\\\\n",
    " 0 & 0 & 1 & 0 \\\\\n",
    " 0 & 0 & 0 & 1\n",
    "\\end{bmatrix}_{4\\times 4}\n",
    "$$"
   ]
  },
  {
   "cell_type": "code",
   "execution_count": 11,
   "metadata": {},
   "outputs": [
    {
     "name": "stdout",
     "output_type": "stream",
     "text": [
      "[[25. 25. 25. 25.]\n",
      " [25. 25. 25. 25.]\n",
      " [25. 25. 25. 25.]]\n",
      "[[17. 17.]\n",
      " [17. 17.]]\n"
     ]
    }
   ],
   "source": [
    "# Código para Exercício 1\n",
    "import numpy as np\n",
    "A = np.full((3,3),8)\n",
    "B = np.full((3,4),1)\n",
    "C = np.eye(4)\n",
    "\n",
    "#D = ((A^t@B) + B)@C^-1\n",
    "AtB = A.T@B\n",
    "e = AtB + B\n",
    "Cinv = np.linalg.inv(C)\n",
    "D = e@Cinv\n",
    "print(D)\n",
    "\n",
    "#Código para o Exercicio 2\n",
    "Anao = A[:2,:2]\n",
    "Bnao = B[:2,:2]\n",
    "Cnao = C[:2,:2]\n",
    "\n",
    "#Dnao = ((Anao^t@Bnao) + Bnao)@Cnao^-1\n",
    "AtB = Anao.T@Bnao\n",
    "e = AtB + Bnao\n",
    "Cinv = np.linalg.inv(Cnao)\n",
    "Dnao = e@Cinv\n",
    "print(Dnao)"
   ]
  },
  {
   "cell_type": "markdown",
   "metadata": {},
   "source": [
    "## Questão 2\n",
    "**2A.** Escreva uma função python que recebe $m$ como entrada e executa os seguintes passos:\n",
    "1. [ ] gera uma matriz aleatória $W_{m \\times 4}$ (função **numpy.random.randn**),\n",
    "2. [ ] divide cada uma das entradas por $\\sqrt{m}$ (salva resultado em $\\tilde W$),\n",
    "3. [ ] calcula $Z = \\tilde W^\\top \\times \\tilde W$,\n",
    "4. [ ] imprime $Z$,\n",
    "5. [ ] calcula a norma Frobenius da diferença entre $Z$ e a matriz identidade $I_{4 \\times 4}$."
   ]
  },
  {
   "cell_type": "code",
   "execution_count": 12,
   "metadata": {
    "ExecuteTime": {
     "end_time": "2020-03-10T19:15:39.272717Z",
     "start_time": "2020-03-10T19:15:39.270724Z"
    }
   },
   "outputs": [
    {
     "name": "stdout",
     "output_type": "stream",
     "text": [
      "[[ 1.55366329  0.06642021  0.2486224  -0.12731778]\n",
      " [ 0.06642021  1.06149344 -0.26463811  0.24367005]\n",
      " [ 0.2486224  -0.26463811  1.156298    0.08649062]\n",
      " [-0.12731778  0.24367005  0.08649062  0.59501432]]\n",
      "0.9682015145200852\n"
     ]
    }
   ],
   "source": [
    "# Código para Exercício 2\n",
    "import math\n",
    "\n",
    "def questao2(m):\n",
    "    W = np.random.randn(m,4)\n",
    "    Wlinha = W/math.sqrt(m)\n",
    "    Z = Wlinha.T@Wlinha\n",
    "    print(Z)\n",
    "    return np.linalg.norm(Z-np.eye(4),'fro')\n",
    "\n",
    "print(questao2(10))"
   ]
  },
  {
   "cell_type": "markdown",
   "metadata": {},
   "source": [
    "**2B.** Qual a norma da diferença obtida para $m=100$? E para $m=10000$?"
   ]
  },
  {
   "cell_type": "code",
   "execution_count": 13,
   "metadata": {},
   "outputs": [
    {
     "name": "stdout",
     "output_type": "stream",
     "text": [
      "[[ 1.1284955   0.04245917  0.07369586 -0.03018181]\n",
      " [ 0.04245917  1.17230789  0.11099259  0.04710495]\n",
      " [ 0.07369586  0.11099259  0.93089783 -0.17383398]\n",
      " [-0.03018181  0.04710495 -0.17383398  1.15564527]]\n",
      "[[ 1.02941868  0.00394957  0.02012393  0.01566832]\n",
      " [ 0.00394957  0.98189197  0.00727636 -0.00586304]\n",
      " [ 0.02012393  0.00727636  0.99487952  0.00177926]\n",
      " [ 0.01566832 -0.00586304  0.00177926  1.02897391]]\n",
      "A diferença para m = 100 é 0.4254459279862936 e para m=10000 é 0.059767672567045266\n"
     ]
    }
   ],
   "source": [
    "#Resposta\n",
    "diferença100 = questao2(100)\n",
    "diferença10k = questao2(10000)\n",
    "print(\"A diferença para m = 100 é {} e para m=10000 é {}\".format(diferença100,diferença10k))"
   ]
  },
  {
   "cell_type": "markdown",
   "metadata": {},
   "source": [
    "**2C.** O que podemos dizer sobre a matriz $\\tilde W$?"
   ]
  },
  {
   "cell_type": "markdown",
   "metadata": {},
   "source": [
    "Resposta: Wlinha é W normalizado."
   ]
  }
 ],
 "metadata": {
  "kernelspec": {
   "display_name": "Python 3",
   "language": "python",
   "name": "python3"
  },
  "language_info": {
   "codemirror_mode": {
    "name": "ipython",
    "version": 3
   },
   "file_extension": ".py",
   "mimetype": "text/x-python",
   "name": "python",
   "nbconvert_exporter": "python",
   "pygments_lexer": "ipython3",
   "version": "3.8.1"
  }
 },
 "nbformat": 4,
 "nbformat_minor": 2
}
